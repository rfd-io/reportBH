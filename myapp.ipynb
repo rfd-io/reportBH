{
 "cells": [
  {
   "cell_type": "code",
   "execution_count": 1,
   "metadata": {},
   "outputs": [],
   "source": [
    "import streamlit as st\n",
    "import pandas as pd\n",
    "import numpy as np\n",
    "# import gspread\n",
    "# import df2gspread as d2g"
   ]
  },
  {
   "cell_type": "code",
   "execution_count": 2,
   "metadata": {},
   "outputs": [],
   "source": [
    "img = 'https://drive.google.com/open?id=1T7XKjVmf6c8vC5VAUvjmpvDvxX1-fvbF, https://drive.google.com/open?id=1RfjU_BdK37Y2DW84msd63u0JFTRCsQ5l, https://drive.google.com/open?id=1mgCf3994rHX9HFNI4CUT8-8ceJqb51Si'\n",
    "img_df = pd.DataFrame(img.split(', '), columns=[\"url\"])"
   ]
  },
  {
   "cell_type": "code",
   "execution_count": 55,
   "metadata": {},
   "outputs": [
    {
     "data": {
      "text/plain": [
       "['https://drive.google.com/u/0/uc?id=1T7XKjVmf6c8vC5VAUvjmpvDvxX1-fvbF&export=download',\n",
       " 'https://drive.google.com/u/0/uc?id=1RfjU_BdK37Y2DW84msd63u0JFTRCsQ5l&export=download',\n",
       " 'https://drive.google.com/u/0/uc?id=1mgCf3994rHX9HFNI4CUT8-8ceJqb51Si&export=download']"
      ]
     },
     "execution_count": 55,
     "metadata": {},
     "output_type": "execute_result"
    }
   ],
   "source": [
    "img_lst = img_df['url'].str.split(\"=|,\", expand=True)[1].tolist()\n",
    "final_url = [f\"https://drive.google.com/u/0/uc?id={img_lst[i]}&export=download\" for i in range(0, len(img_lst))]\n",
    "final_url"
   ]
  },
  {
   "cell_type": "code",
   "execution_count": 18,
   "metadata": {},
   "outputs": [
    {
     "data": {
      "text/plain": [
       "[<Worksheet 'form' id:1865598876>, <Worksheet 'admin' id:356714709>]"
      ]
     },
     "execution_count": 18,
     "metadata": {},
     "output_type": "execute_result"
    }
   ],
   "source": [
    "# gc = gspread.service_account(filename='/Users/rafidafatimatuzzahra/Documents/side gig/dashboard monev/reportBH/jsonFileFromGoogle.json')\n",
    "# sh = gc.open_by_url(\"https://docs.google.com/spreadsheets/d/1rkln3HOcmNM79hxNPxX6BPev4yc_ywlHm-LAe6a4j0M/edit?usp=sharing\")\n",
    "\n",
    "# worksheet = sh.worksheet(\"admin\")\n",
    "# df = pd.DataFrame(worksheet.get_all_records())\n",
    "# df"
   ]
  },
  {
   "cell_type": "code",
   "execution_count": null,
   "metadata": {},
   "outputs": [],
   "source": []
  }
 ],
 "metadata": {
  "interpreter": {
   "hash": "3c6ac3e6f170ca8f754d17b7e81babb9f75b22bd991ed745620253c7cf40e57d"
  },
  "kernelspec": {
   "display_name": "Python 3.7.11 64-bit ('reportBH': conda)",
   "name": "python3"
  },
  "language_info": {
   "codemirror_mode": {
    "name": "ipython",
    "version": 3
   },
   "file_extension": ".py",
   "mimetype": "text/x-python",
   "name": "python",
   "nbconvert_exporter": "python",
   "pygments_lexer": "ipython3",
   "version": "3.7.11"
  },
  "orig_nbformat": 4
 },
 "nbformat": 4,
 "nbformat_minor": 2
}
