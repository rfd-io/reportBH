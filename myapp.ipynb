{
 "cells": [
  {
   "cell_type": "code",
   "execution_count": 5,
   "metadata": {},
   "outputs": [],
   "source": [
    "import streamlit as st\n",
    "import pandas as pd\n",
    "import numpy as np\n",
    "import gspread\n",
    "import df2gspread as d2g"
   ]
  },
  {
   "cell_type": "code",
   "execution_count": 6,
   "metadata": {},
   "outputs": [
    {
     "data": {
      "text/html": [
       "<div>\n",
       "<style scoped>\n",
       "    .dataframe tbody tr th:only-of-type {\n",
       "        vertical-align: middle;\n",
       "    }\n",
       "\n",
       "    .dataframe tbody tr th {\n",
       "        vertical-align: top;\n",
       "    }\n",
       "\n",
       "    .dataframe thead th {\n",
       "        text-align: right;\n",
       "    }\n",
       "</style>\n",
       "<table border=\"1\" class=\"dataframe\">\n",
       "  <thead>\n",
       "    <tr style=\"text-align: right;\">\n",
       "      <th></th>\n",
       "      <th>col1</th>\n",
       "      <th>col2</th>\n",
       "    </tr>\n",
       "  </thead>\n",
       "  <tbody>\n",
       "    <tr>\n",
       "      <th>0</th>\n",
       "      <td>1</td>\n",
       "      <td>3</td>\n",
       "    </tr>\n",
       "    <tr>\n",
       "      <th>1</th>\n",
       "      <td>2</td>\n",
       "      <td>4</td>\n",
       "    </tr>\n",
       "  </tbody>\n",
       "</table>\n",
       "</div>"
      ],
      "text/plain": [
       "   col1  col2\n",
       "0     1     3\n",
       "1     2     4"
      ]
     },
     "execution_count": 6,
     "metadata": {},
     "output_type": "execute_result"
    }
   ],
   "source": [
    "d = {'col1': [1, 2], 'col2': [3, 4]}\n",
    "df = pd.DataFrame(data=d)\n",
    "df"
   ]
  },
  {
   "cell_type": "code",
   "execution_count": 18,
   "metadata": {},
   "outputs": [
    {
     "data": {
      "text/plain": [
       "[<Worksheet 'form' id:1865598876>, <Worksheet 'admin' id:356714709>]"
      ]
     },
     "execution_count": 18,
     "metadata": {},
     "output_type": "execute_result"
    }
   ],
   "source": [
    "gc = gspread.service_account(filename='/Users/rafidafatimatuzzahra/Documents/side gig/dashboard monev/reportBH/jsonFileFromGoogle.json')\n",
    "sh = gc.open_by_url(\"https://docs.google.com/spreadsheets/d/1rkln3HOcmNM79hxNPxX6BPev4yc_ywlHm-LAe6a4j0M/edit?usp=sharing\")\n",
    "\n",
    "worksheet = sh.worksheet(\"admin\")\n",
    "df = pd.DataFrame(worksheet.get_all_records())\n",
    "df"
   ]
  },
  {
   "cell_type": "code",
   "execution_count": 31,
   "metadata": {},
   "outputs": [
    {
     "data": {
      "text/html": [
       "<div>\n",
       "<style scoped>\n",
       "    .dataframe tbody tr th:only-of-type {\n",
       "        vertical-align: middle;\n",
       "    }\n",
       "\n",
       "    .dataframe tbody tr th {\n",
       "        vertical-align: top;\n",
       "    }\n",
       "\n",
       "    .dataframe thead th {\n",
       "        text-align: right;\n",
       "    }\n",
       "</style>\n",
       "<table border=\"1\" class=\"dataframe\">\n",
       "  <thead>\n",
       "    <tr style=\"text-align: right;\">\n",
       "      <th></th>\n",
       "      <th>email</th>\n",
       "      <th>password</th>\n",
       "      <th>department</th>\n",
       "    </tr>\n",
       "  </thead>\n",
       "  <tbody>\n",
       "    <tr>\n",
       "      <th>0</th>\n",
       "      <td>test@gmail.com</td>\n",
       "      <td>password</td>\n",
       "      <td>marketing</td>\n",
       "    </tr>\n",
       "    <tr>\n",
       "      <th>1</th>\n",
       "      <td>test2@gmail.com</td>\n",
       "      <td>qwerty123</td>\n",
       "      <td>IT</td>\n",
       "    </tr>\n",
       "  </tbody>\n",
       "</table>\n",
       "</div>"
      ],
      "text/plain": [
       "             email   password department\n",
       "0   test@gmail.com   password  marketing\n",
       "1  test2@gmail.com  qwerty123         IT"
      ]
     },
     "execution_count": 31,
     "metadata": {},
     "output_type": "execute_result"
    }
   ],
   "source": [
    "SPREADSHEET_ID = '1rkln3HOcmNM79hxNPxX6BPev4yc_ywlHm-LAe6a4j0M' # dashboard monev\n",
    "FORMAT = 'xlsx'\n",
    "SHEET_ID = '356714709' # form\n",
    "url = f\"https://docs.google.com/spreadsheets/d/{SPREADSHEET_ID}/export?format={FORMAT}&gid={SHEET_ID}\"\n",
    "\n",
    "df = pd.read_excel(url)\n",
    "df"
   ]
  },
  {
   "cell_type": "code",
   "execution_count": 60,
   "metadata": {},
   "outputs": [
    {
     "ename": "NameError",
     "evalue": "name 'test2' is not defined",
     "output_type": "error",
     "traceback": [
      "\u001b[0;31m---------------------------------------------------------------------------\u001b[0m",
      "\u001b[0;31mNameError\u001b[0m                                 Traceback (most recent call last)",
      "\u001b[0;32m/var/folders/zv/j47cklsd6wgbx9d7lxm92nf80000gn/T/ipykernel_3353/636210325.py\u001b[0m in \u001b[0;36m<module>\u001b[0;34m\u001b[0m\n\u001b[1;32m      8\u001b[0m     \u001b[0;32mreturn\u001b[0m \u001b[0mdata\u001b[0m\u001b[0;34m\u001b[0m\u001b[0;34m\u001b[0m\u001b[0m\n\u001b[1;32m      9\u001b[0m \u001b[0;34m\u001b[0m\u001b[0m\n\u001b[0;32m---> 10\u001b[0;31m \u001b[0mlogin_user\u001b[0m\u001b[0;34m(\u001b[0m\u001b[0mtest2\u001b[0m\u001b[0;34m,\u001b[0m \u001b[0mqwerty123\u001b[0m\u001b[0;34m)\u001b[0m\u001b[0;34m\u001b[0m\u001b[0;34m\u001b[0m\u001b[0m\n\u001b[0m",
      "\u001b[0;31mNameError\u001b[0m: name 'test2' is not defined"
     ]
    }
   ],
   "source": [
    "def login_user(username,password):\n",
    "\t# c.execute('SELECT * FROM userstable WHERE username =? AND password = ?',(username,password))\n",
    "\t# data = c.fetchall()\n",
    "    usr = str(username)\n",
    "    pwd = str(password)\n",
    "    data = df.query(f'email == {usr} & password == {pwd}').values.tolist()\n",
    "\t# print(data)\n",
    "    return data\n",
    "\n",
    "login_user(test2, qwerty123)"
   ]
  },
  {
   "cell_type": "code",
   "execution_count": 24,
   "metadata": {},
   "outputs": [
    {
     "data": {
      "text/html": [
       "<div>\n",
       "<style scoped>\n",
       "    .dataframe tbody tr th:only-of-type {\n",
       "        vertical-align: middle;\n",
       "    }\n",
       "\n",
       "    .dataframe tbody tr th {\n",
       "        vertical-align: top;\n",
       "    }\n",
       "\n",
       "    .dataframe thead th {\n",
       "        text-align: right;\n",
       "    }\n",
       "</style>\n",
       "<table border=\"1\" class=\"dataframe\">\n",
       "  <thead>\n",
       "    <tr style=\"text-align: right;\">\n",
       "      <th></th>\n",
       "      <th>Timestamp</th>\n",
       "      <th>USER</th>\n",
       "      <th>KELAS</th>\n",
       "      <th>PLANNING</th>\n",
       "      <th>DOING</th>\n",
       "      <th>CHECKING</th>\n",
       "      <th>ACTUATING-FOLLOW UP</th>\n",
       "      <th>ACTUATING-HASIL</th>\n",
       "      <th>PHOTO</th>\n",
       "    </tr>\n",
       "  </thead>\n",
       "  <tbody>\n",
       "    <tr>\n",
       "      <th>0</th>\n",
       "      <td>2021-10-23 22:57:29.760</td>\n",
       "      <td>guru kelas 1</td>\n",
       "      <td>KELAS 1 ABU BAKAR</td>\n",
       "      <td>Lorem Ipsum is simply dummy text of the printi...</td>\n",
       "      <td>Lorem ipsum dolor sit amet, consectetur adipis...</td>\n",
       "      <td>Sed ut perspiciatis unde omnis iste natus erro...</td>\n",
       "      <td>At vero eos et accusamus et iusto odio digniss...</td>\n",
       "      <td>There are many variations of passages of Lorem...</td>\n",
       "      <td>NaN</td>\n",
       "    </tr>\n",
       "    <tr>\n",
       "      <th>1</th>\n",
       "      <td>2021-10-23 22:59:01.157</td>\n",
       "      <td>guru kelas 1</td>\n",
       "      <td>KELAS 1 UMAR</td>\n",
       "      <td>Etiam ut ante in justo posuere luctus tempor q...</td>\n",
       "      <td>Lorem ipsum dolor sit amet, consectetur adipis...</td>\n",
       "      <td>Donec elementum felis sit amet ligula ultricie...</td>\n",
       "      <td>Nunc eu nibh ut eros euismod aliquet sed at or...</td>\n",
       "      <td>Nullam tincidunt mi ut tortor vestibulum, rhon...</td>\n",
       "      <td>NaN</td>\n",
       "    </tr>\n",
       "    <tr>\n",
       "      <th>2</th>\n",
       "      <td>2021-10-24 00:00:00.000</td>\n",
       "      <td>admin</td>\n",
       "      <td>NaN</td>\n",
       "      <td>NaN</td>\n",
       "      <td>NaN</td>\n",
       "      <td>NaN</td>\n",
       "      <td>NaN</td>\n",
       "      <td>NaN</td>\n",
       "      <td>NaN</td>\n",
       "    </tr>\n",
       "  </tbody>\n",
       "</table>\n",
       "</div>"
      ],
      "text/plain": [
       "                Timestamp          USER              KELAS  \\\n",
       "0 2021-10-23 22:57:29.760  guru kelas 1  KELAS 1 ABU BAKAR   \n",
       "1 2021-10-23 22:59:01.157  guru kelas 1       KELAS 1 UMAR   \n",
       "2 2021-10-24 00:00:00.000         admin                NaN   \n",
       "\n",
       "                                            PLANNING  \\\n",
       "0  Lorem Ipsum is simply dummy text of the printi...   \n",
       "1  Etiam ut ante in justo posuere luctus tempor q...   \n",
       "2                                                NaN   \n",
       "\n",
       "                                               DOING  \\\n",
       "0  Lorem ipsum dolor sit amet, consectetur adipis...   \n",
       "1  Lorem ipsum dolor sit amet, consectetur adipis...   \n",
       "2                                                NaN   \n",
       "\n",
       "                                            CHECKING  \\\n",
       "0  Sed ut perspiciatis unde omnis iste natus erro...   \n",
       "1  Donec elementum felis sit amet ligula ultricie...   \n",
       "2                                                NaN   \n",
       "\n",
       "                                 ACTUATING-FOLLOW UP  \\\n",
       "0  At vero eos et accusamus et iusto odio digniss...   \n",
       "1  Nunc eu nibh ut eros euismod aliquet sed at or...   \n",
       "2                                                NaN   \n",
       "\n",
       "                                    ACTUATING-HASIL   PHOTO  \n",
       "0  There are many variations of passages of Lorem...    NaN  \n",
       "1  Nullam tincidunt mi ut tortor vestibulum, rhon...    NaN  \n",
       "2                                                NaN    NaN  "
      ]
     },
     "execution_count": 24,
     "metadata": {},
     "output_type": "execute_result"
    }
   ],
   "source": [
    "# Write a page title\n",
    "st.title('Laporan Kegiatan Dashboard Monev')\n",
    "\n",
    "SPREADSHEET_ID = '1rkln3HOcmNM79hxNPxX6BPev4yc_ywlHm-LAe6a4j0M' # dashboard monev\n",
    "FORMAT = 'xlsx'\n",
    "SHEET_ID = '1865598876' # form\n",
    "url = f\"https://docs.google.com/spreadsheets/d/{SPREADSHEET_ID}/export?format={FORMAT}&gid={SHEET_ID}\"\n",
    "# st.write(df)"
   ]
  },
  {
   "cell_type": "code",
   "execution_count": null,
   "metadata": {},
   "outputs": [],
   "source": []
  }
 ],
 "metadata": {
  "interpreter": {
   "hash": "3c6ac3e6f170ca8f754d17b7e81babb9f75b22bd991ed745620253c7cf40e57d"
  },
  "kernelspec": {
   "display_name": "Python 3.7.11 64-bit ('reportBH': conda)",
   "name": "python3"
  },
  "language_info": {
   "codemirror_mode": {
    "name": "ipython",
    "version": 3
   },
   "file_extension": ".py",
   "mimetype": "text/x-python",
   "name": "python",
   "nbconvert_exporter": "python",
   "pygments_lexer": "ipython3",
   "version": "3.7.11"
  },
  "orig_nbformat": 4
 },
 "nbformat": 4,
 "nbformat_minor": 2
}
